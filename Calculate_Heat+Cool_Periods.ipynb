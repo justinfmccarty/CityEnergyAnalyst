{
  "nbformat": 4,
  "nbformat_minor": 0,
  "metadata": {
    "colab": {
      "name": "Calculate Heat+Cool Periods.ipynb",
      "provenance": [],
      "toc_visible": true,
      "authorship_tag": "ABX9TyPmXbfxBh/xOEgdKpJLqr7m",
      "include_colab_link": true
    },
    "kernelspec": {
      "name": "python3",
      "display_name": "Python 3"
    }
  },
  "cells": [
    {
      "cell_type": "markdown",
      "metadata": {
        "id": "view-in-github",
        "colab_type": "text"
      },
      "source": [
        "<a href=\"https://colab.research.google.com/github/justinfmccarty/CityEnergyAnalyst_bigmacc/blob/master/Calculate_Heat%2BCool_Periods.ipynb\" target=\"_parent\"><img src=\"https://colab.research.google.com/assets/colab-badge.svg\" alt=\"Open In Colab\"/></a>"
      ]
    },
    {
      "cell_type": "markdown",
      "metadata": {
        "id": "Lwyyg5-Lnlkg"
      },
      "source": [
        "# Determining Heating and Cooling Seasons"
      ]
    },
    {
      "cell_type": "markdown",
      "metadata": {
        "id": "H2wDHiZEnw7y"
      },
      "source": [
        "This notebook uses effective tempreature (Houghton and Yaglou, 1923) to calculate a sliding effective temperture for each day of the year and then detemrine where to bracket out heating and cooling seasons following Wang et al (2015).\r\n",
        "\r\n",
        "*Houghten, F., Yaglou, C., 1923. Determining lines of equal comfort. ASHVE Trans. 29, 163–176.*\r\n",
        "\r\n",
        "*Wang Y, Wang L, Liu Y, Ding P, Deng S, Long E. Defining air-conditioning and heating seasons based on human thermal perception and building energy efficiency. Urban Clim 2015;14:544–53. doi:10.1016/j.uclim.2015.09.008.*"
      ]
    },
    {
      "cell_type": "code",
      "metadata": {
        "id": "cDoBpzJ6-exw"
      },
      "source": [
        "import random\r\n",
        "import numpy as np\r\n",
        "import pandas as pd\r\n",
        "import urllib.request\r\n",
        "import zipfile\r\n"
      ],
      "execution_count": 6,
      "outputs": []
    },
    {
      "cell_type": "code",
      "metadata": {
        "id": "NFBfZoSGgUqH"
      },
      "source": [
        "def epw_to_dataframe(weather_path):\r\n",
        "    epw_labels = ['year', 'month', 'day', 'hour', 'minute', 'datasource', 'drybulb_C', 'dewpoint_C', 'relhum_percent',\r\n",
        "                  'atmos_Pa', 'exthorrad_Whm2', 'extdirrad_Whm2', 'horirsky_Whm2', 'glohorrad_Whm2', 'dirnorrad_Whm2',\r\n",
        "                  'difhorrad_Whm2', 'glohorillum_lux', 'dirnorillum_lux', 'difhorillum_lux', 'zenlum_lux', 'winddir_deg',\r\n",
        "                  'windspd_ms', 'totskycvr_tenths', 'opaqskycvr_tenths', 'visibility_km', 'ceiling_hgt_m',\r\n",
        "                  'presweathobs', 'presweathcodes', 'precip_wtr_mm', 'aerosol_opt_thousandths', 'snowdepth_cm',\r\n",
        "                  'days_last_snow', 'Albedo', 'liq_precip_depth_mm', 'liq_precip_rate_Hour']\r\n",
        "    df = pd.DataFrame(pd.read_csv(weather_path, skiprows=8, header=None, names=epw_labels).drop('datasource', axis=1))\r\n",
        "    df['hour'] = df['hour'].astype(int)\r\n",
        "    if df['hour'][0]==1:\r\n",
        "        print('EPW file hours reduced from 1-24h to 0-23h')\r\n",
        "        df['hour'] = df['hour'] - 1\r\n",
        "    else:\r\n",
        "        print('EPW file hours maintained at 0-23hr')\r\n",
        "\r\n",
        "    df['minute'] = 0\r\n",
        "    return df\r\n",
        "\r\n",
        "\r\n",
        "def calcET(dbt,rh):\r\n",
        "  effective_temp = dbt - 0.4*(1-rh)\r\n",
        "  return effective_temp\r\n",
        "\r\n",
        "def calcSET(effectivetemps):\r\n",
        "  SETs = []\r\n",
        "  for i in list(range(0,len(effectivetemps)-4)):\r\n",
        "    SETdaily = (sum((effectivetemps[i],effectivetemps[i+1],effectivetemps[i+2],effectivetemps[i+3],effectivetemps[i+4])))/5\r\n",
        "    SETs.append(SETdaily)\r\n",
        "  return SETs\r\n",
        "\r\n",
        "def createSET(dbt,rh):\r\n",
        "  idx = pd.date_range(freq=\"h\", start=\"2018-01-01\", periods=365*24)\r\n",
        "  data = pd.DataFrame(data={'dbt': dbt,\r\n",
        "                            'rh': rh},\r\n",
        "                      index=idx)\r\n",
        "  data['eff_temp'] = data.apply(lambda x: calcET(x['dbt'],x['rh']), axis=1 )\r\n",
        "  data_daily = data.resample('D').mean()\r\n",
        "\r\n",
        "  efftemps = data_daily['eff_temp'].values.tolist()\r\n",
        "  efftemps[365:369] = efftemps[0:4]\r\n",
        "\r\n",
        "  data_daily['SET'] = calcSET(efftemps)\r\n",
        "  return data_daily"
      ],
      "execution_count": 7,
      "outputs": []
    },
    {
      "cell_type": "code",
      "metadata": {
        "id": "ea5xDOibwhZz"
      },
      "source": [
        "url = 'http://climate.onebuilding.org/WMO_Region_4_North_and_Central_America/CAN_Canada/BC_British_Columbia/CAN_BC_Vancouver.Intl.AP.718920_CWEC.zip'\r\n",
        "urllib.request.urlretrieve(url,'/content/yvr.zip')\r\n",
        "\r\n",
        "zf = zipfile.ZipFile('/content/yvr.zip', 'r')\r\n",
        "zf.extractall('/content/yvr')\r\n",
        "zf.close()"
      ],
      "execution_count": 8,
      "outputs": []
    },
    {
      "cell_type": "code",
      "metadata": {
        "id": "xIQBlLr_whcQ",
        "outputId": "efa63966-e20b-47f3-d4a6-408c081df169",
        "colab": {
          "base_uri": "https://localhost:8080/"
        }
      },
      "source": [
        "# best to change out the use of ladybug epw module due to pandas \r\n",
        "pcic_path = '/content/MORPHED_ROLL21_TAS_RHS_CAN_BC_UBC_2041-2070_CWEC2016.epw'\r\n",
        "epw_path = '/content/yvr/CAN_BC_Vancouver.Intl.AP.718920_CWEC.epw'\r\n",
        "epw = epw_to_dataframe(pcic_path)\r\n",
        "# df = lbp.DataFrame.from_epw(epw)\r\n",
        "# df.head()\r\n",
        "dbt_list = epw.drybulb_C.values\r\n",
        "rh_list_percent = epw.relhum_percent.values\r\n",
        "\r\n",
        "rh_list = []\r\n",
        "\r\n",
        "for i in rh_list_percent:\r\n",
        "  rh_list.append(i/100)\r\n",
        "\r\n",
        "daily_data = np.round(createSET(dbt_list,rh_list),2)\r\n"
      ],
      "execution_count": 36,
      "outputs": [
        {
          "output_type": "stream",
          "text": [
            "EPW file hours reduced from 1-24h to 0-23h\n"
          ],
          "name": "stdout"
        }
      ]
    },
    {
      "cell_type": "code",
      "metadata": {
        "id": "XBIm8i7eXhzJ",
        "outputId": "c1bace9f-a6c8-409a-979d-07ae53cca5fc",
        "colab": {
          "base_uri": "https://localhost:8080/",
          "height": 295
        }
      },
      "source": [
        "daily_data['SET'].plot.line()"
      ],
      "execution_count": 37,
      "outputs": [
        {
          "output_type": "execute_result",
          "data": {
            "text/plain": [
              "<matplotlib.axes._subplots.AxesSubplot at 0x7f612a5e2d30>"
            ]
          },
          "metadata": {
            "tags": []
          },
          "execution_count": 37
        },
        {
          "output_type": "display_data",
          "data": {
            "image/png": "[encoded data removed]",
            "text/plain": [
              "<Figure size 432x288 with 1 Axes>"
            ]
          },
          "metadata": {
            "tags": [],
            "needs_background": "light"
          }
        }
      ]
    },
    {
      "cell_type": "code",
      "metadata": {
        "id": "nDvFMA3cVjaK"
      },
      "source": [
        "def calc_above(value, threshold):\r\n",
        "  if value > threshold:\r\n",
        "    return 1\r\n",
        "  else:\r\n",
        "    return 0\r\n",
        "\r\n",
        "def calc_below(value, threshold):\r\n",
        "  if value < threshold:\r\n",
        "    return 1\r\n",
        "  else:\r\n",
        "    return 0\r\n",
        "\r\n",
        "cooling = 22\r\n",
        "heating = 10\r\n",
        "\r\n",
        "daily_data['above'] = daily_data.apply(lambda x: calc_above(x['SET'],cooling),axis=1)\r\n",
        "daily_data['below'] = daily_data.apply(lambda x: calc_below(x['SET'],heating),axis=1)\r\n",
        "\r\n",
        "daily_data['above_grp'] = (daily_data.above.diff(1) != 0).astype('int').cumsum()\r\n",
        "daily_data['below_grp'] = (daily_data.below.diff(1) != 0).astype('int').cumsum()\r\n",
        "daily_data['Date'] = daily_data.index\r\n",
        "\r\n",
        "df_above = pd.DataFrame({'BeginDate' : daily_data.groupby('above_grp').Date.first(), \r\n",
        "              'EndDate' : daily_data.groupby('above_grp').Date.last(),\r\n",
        "              'Consecutive' : daily_data.groupby('above_grp').size()}).reset_index(drop=True)\r\n",
        "\r\n",
        "\r\n",
        "df_below = pd.DataFrame({'BeginDate' : daily_data.groupby('below_grp').Date.first(), \r\n",
        "              'EndDate' : daily_data.groupby('below_grp').Date.last(),\r\n",
        "              'Consecutive' : daily_data.groupby('below_grp').size()}).reset_index(drop=True)\r\n",
        "\r\n"
      ],
      "execution_count": 38,
      "outputs": []
    },
    {
      "cell_type": "code",
      "metadata": {
        "id": "X07I_7i5U4Tj",
        "outputId": "142f5e8b-a5b0-41fc-df02-adbd83907b7d",
        "colab": {
          "base_uri": "https://localhost:8080/"
        }
      },
      "source": [
        "def above_below(value):\r\n",
        "  if value==1:\r\n",
        "    return 'Yes'\r\n",
        "  else:\r\n",
        "    return 'No'\r\n",
        "\r\n",
        "daily_data['above'][0]\r\n",
        "\r\n"
      ],
      "execution_count": 46,
      "outputs": [
        {
          "output_type": "execute_result",
          "data": {
            "text/plain": [
              "0"
            ]
          },
          "metadata": {
            "tags": []
          },
          "execution_count": 46
        }
      ]
    }
  ]
}