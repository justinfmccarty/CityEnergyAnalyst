{
  "nbformat": 4,
  "nbformat_minor": 0,
  "metadata": {
    "colab": {
      "name": "Calculate Heat+Cool Periods.ipynb",
      "provenance": [],
      "toc_visible": true,
      "authorship_tag": "ABX9TyMp1KKo3dVTDAhyWvENoF62",
      "include_colab_link": true
    },
    "kernelspec": {
      "name": "python3",
      "display_name": "Python 3"
    }
  },
  "cells": [
    {
      "cell_type": "markdown",
      "metadata": {
        "id": "view-in-github",
        "colab_type": "text"
      },
      "source": [
        "<a href=\"https://colab.research.google.com/github/justinfmccarty/CityEnergyAnalyst_bigmacc/blob/master/Calculate_Heat%2BCool_Periods.ipynb\" target=\"_parent\"><img src=\"https://colab.research.google.com/assets/colab-badge.svg\" alt=\"Open In Colab\"/></a>"
      ]
    },
    {
      "cell_type": "markdown",
      "metadata": {
        "id": "Lwyyg5-Lnlkg"
      },
      "source": [
        "# Determining Heating and Cooling Seasons"
      ]
    },
    {
      "cell_type": "markdown",
      "metadata": {
        "id": "H2wDHiZEnw7y"
      },
      "source": [
        "This notebook uses effective tempreature (Houghton and Yaglou, 1923) to calculate a sliding effective temperture for each day of the year and then detemrine where to bracket out heating and cooling seasons following Wang et al (2015).\r\n",
        "\r\n",
        "*Houghten, F., Yaglou, C., 1923. Determining lines of equal comfort. ASHVE Trans. 29, 163–176.*\r\n",
        "\r\n",
        "*Wang Y, Wang L, Liu Y, Ding P, Deng S, Long E. Defining air-conditioning and heating seasons based on human thermal perception and building energy efficiency. Urban Clim 2015;14:544–53. doi:10.1016/j.uclim.2015.09.008.*"
      ]
    },
    {
      "cell_type": "code",
      "metadata": {
        "id": "ezG4VAOHy2YY"
      },
      "source": [
        "!pip install ladybug-core\r\n",
        "!pip install ladybug-pandas"
      ],
      "execution_count": null,
      "outputs": []
    },
    {
      "cell_type": "code",
      "metadata": {
        "id": "cDoBpzJ6-exw"
      },
      "source": [
        "import random\r\n",
        "import numpy as np\r\n",
        "import pandas as pd\r\n",
        "import urllib\r\n",
        "import zipfile\r\n",
        "import ladybug_pandas as lbp\r\n",
        "from ladybug.epw import EPW"
      ],
      "execution_count": 1,
      "outputs": []
    },
    {
      "cell_type": "code",
      "metadata": {
        "id": "NFBfZoSGgUqH"
      },
      "source": [
        "def calcET(dbt,rh):\r\n",
        "  effective_temp = dbt - 0.4*(1-rh)\r\n",
        "  return effective_temp\r\n",
        "\r\n",
        "def calcSET(effectivetemps):\r\n",
        "  SETs = []\r\n",
        "  for i in list(range(0,len(effectivetemps)-4)):\r\n",
        "    SETdaily = (sum((effectivetemps[i],effectivetemps[i+1],effectivetemps[i+2],effectivetemps[i+3],effectivetemps[i+4])))/5\r\n",
        "    SETs.append(SETdaily)\r\n",
        "  return SETs\r\n",
        "\r\n",
        "def createSET(dbt,rh):\r\n",
        "  idx = pd.date_range(freq=\"h\", start=\"2018-01-01\", periods=365*24)\r\n",
        "  data = pd.DataFrame(data={'dbt': dbt,\r\n",
        "                            'rh': rh},\r\n",
        "                      index=idx)\r\n",
        "  data['eff_temp'] = data.apply(lambda x: calcET(x['dbt'],x['rh']), axis=1 )\r\n",
        "  data_daily = data.resample('D').mean()\r\n",
        "\r\n",
        "  efftemps = data_daily['eff_temp'].values.tolist()\r\n",
        "  efftemps[365:369] = efftemps[0:4]\r\n",
        "\r\n",
        "  SETs_list = calcSET(efftemps)\r\n",
        "  return SETs_list"
      ],
      "execution_count": 14,
      "outputs": []
    },
    {
      "cell_type": "code",
      "metadata": {
        "id": "ea5xDOibwhZz"
      },
      "source": [
        "url = 'http://climate.onebuilding.org/WMO_Region_4_North_and_Central_America/CAN_Canada/BC_British_Columbia/CAN_BC_Vancouver.Intl.AP.718920_CWEC.zip'\r\n",
        "urllib.request.urlretrieve(url,'/content/yvr.zip')\r\n",
        "\r\n",
        "zf = zipfile.ZipFile('/content/yvr.zip', 'r')\r\n",
        "zf.extractall('/content/yvr')\r\n",
        "zf.close()"
      ],
      "execution_count": 2,
      "outputs": []
    },
    {
      "cell_type": "code",
      "metadata": {
        "colab": {
          "base_uri": "https://localhost:8080/",
          "height": 365
        },
        "id": "xIQBlLr_whcQ",
        "outputId": "9c162ab1-c41b-4981-b52b-b86418115c7b"
      },
      "source": [
        "epw_path = '/content/yvr/CAN_BC_Vancouver.Intl.AP.718920_CWEC.epw'\r\n",
        "epw = EPW(epw_path)\r\n",
        "epw._import_data()\r\n",
        "df = lbp.DataFrame.from_epw(epw)\r\n",
        "df.head()"
      ],
      "execution_count": 3,
      "outputs": [
        {
          "output_type": "execute_result",
          "data": {
            "text/html": [
              "<div>\n",
              "<style scoped>\n",
              "    .dataframe tbody tr th:only-of-type {\n",
              "        vertical-align: middle;\n",
              "    }\n",
              "\n",
              "    .dataframe tbody tr th {\n",
              "        vertical-align: top;\n",
              "    }\n",
              "\n",
              "    .dataframe thead th {\n",
              "        text-align: right;\n",
              "    }\n",
              "</style>\n",
              "<table border=\"1\" class=\"dataframe\">\n",
              "  <thead>\n",
              "    <tr style=\"text-align: right;\">\n",
              "      <th></th>\n",
              "      <th>Dry Bulb Temperature</th>\n",
              "      <th>Dew Point Temperature</th>\n",
              "      <th>Relative Humidity</th>\n",
              "      <th>Atmospheric Station Pressure</th>\n",
              "      <th>Extraterrestrial Horizontal Radiation</th>\n",
              "      <th>Extraterrestrial Direct Normal Radiation</th>\n",
              "      <th>Horizontal Infrared Radiation Intensity</th>\n",
              "      <th>Global Horizontal Radiation</th>\n",
              "      <th>Direct Normal Radiation</th>\n",
              "      <th>Diffuse Horizontal Radiation</th>\n",
              "      <th>Global Horizontal Illuminance</th>\n",
              "      <th>Direct Normal Illuminance</th>\n",
              "      <th>Diffuse Horizontal Illuminance</th>\n",
              "      <th>Zenith Luminance</th>\n",
              "      <th>Wind Direction</th>\n",
              "      <th>Wind Speed</th>\n",
              "      <th>Total Sky Cover</th>\n",
              "      <th>Opaque Sky Cover</th>\n",
              "      <th>Visibility</th>\n",
              "      <th>Ceiling Height</th>\n",
              "      <th>Present Weather Observation</th>\n",
              "      <th>Present Weather Codes</th>\n",
              "      <th>Precipitable Water</th>\n",
              "      <th>Aerosol Optical Depth</th>\n",
              "      <th>Snow Depth</th>\n",
              "      <th>Days Since Last Snowfall</th>\n",
              "      <th>Albedo</th>\n",
              "      <th>Liquid Precipitation Depth</th>\n",
              "      <th>Liquid Precipitation Quantity</th>\n",
              "    </tr>\n",
              "  </thead>\n",
              "  <tbody>\n",
              "    <tr>\n",
              "      <th>2017-01-01 00:00:00</th>\n",
              "      <td>2.0</td>\n",
              "      <td>1.9</td>\n",
              "      <td>99.0</td>\n",
              "      <td>103210.0</td>\n",
              "      <td>0.0</td>\n",
              "      <td>9999.0</td>\n",
              "      <td>297.0</td>\n",
              "      <td>0.0</td>\n",
              "      <td>0.0</td>\n",
              "      <td>0.0</td>\n",
              "      <td>0.0</td>\n",
              "      <td>0.0</td>\n",
              "      <td>0.0</td>\n",
              "      <td>999900.0</td>\n",
              "      <td>45.0</td>\n",
              "      <td>1.7</td>\n",
              "      <td>10.0</td>\n",
              "      <td>10.0</td>\n",
              "      <td>0.2</td>\n",
              "      <td>0.0</td>\n",
              "      <td>0.0</td>\n",
              "      <td>999999099.0</td>\n",
              "      <td>999.0</td>\n",
              "      <td>0.999</td>\n",
              "      <td>0.0</td>\n",
              "      <td>88.0</td>\n",
              "      <td>0.0</td>\n",
              "      <td>0.0</td>\n",
              "      <td>0.0</td>\n",
              "    </tr>\n",
              "    <tr>\n",
              "      <th>2017-01-01 01:00:00</th>\n",
              "      <td>1.1</td>\n",
              "      <td>1.1</td>\n",
              "      <td>100.0</td>\n",
              "      <td>103340.0</td>\n",
              "      <td>0.0</td>\n",
              "      <td>9999.0</td>\n",
              "      <td>292.0</td>\n",
              "      <td>0.0</td>\n",
              "      <td>0.0</td>\n",
              "      <td>0.0</td>\n",
              "      <td>0.0</td>\n",
              "      <td>0.0</td>\n",
              "      <td>0.0</td>\n",
              "      <td>999900.0</td>\n",
              "      <td>0.0</td>\n",
              "      <td>0.0</td>\n",
              "      <td>10.0</td>\n",
              "      <td>10.0</td>\n",
              "      <td>0.2</td>\n",
              "      <td>60.0</td>\n",
              "      <td>0.0</td>\n",
              "      <td>999999099.0</td>\n",
              "      <td>999.0</td>\n",
              "      <td>0.999</td>\n",
              "      <td>0.0</td>\n",
              "      <td>88.0</td>\n",
              "      <td>0.0</td>\n",
              "      <td>0.0</td>\n",
              "      <td>0.0</td>\n",
              "    </tr>\n",
              "    <tr>\n",
              "      <th>2017-01-01 02:00:00</th>\n",
              "      <td>0.5</td>\n",
              "      <td>0.4</td>\n",
              "      <td>99.0</td>\n",
              "      <td>103420.0</td>\n",
              "      <td>0.0</td>\n",
              "      <td>9999.0</td>\n",
              "      <td>281.0</td>\n",
              "      <td>0.0</td>\n",
              "      <td>0.0</td>\n",
              "      <td>0.0</td>\n",
              "      <td>0.0</td>\n",
              "      <td>0.0</td>\n",
              "      <td>0.0</td>\n",
              "      <td>999900.0</td>\n",
              "      <td>0.0</td>\n",
              "      <td>0.0</td>\n",
              "      <td>9.0</td>\n",
              "      <td>9.0</td>\n",
              "      <td>0.2</td>\n",
              "      <td>3000.0</td>\n",
              "      <td>0.0</td>\n",
              "      <td>999999099.0</td>\n",
              "      <td>999.0</td>\n",
              "      <td>0.999</td>\n",
              "      <td>0.0</td>\n",
              "      <td>88.0</td>\n",
              "      <td>0.0</td>\n",
              "      <td>0.0</td>\n",
              "      <td>0.0</td>\n",
              "    </tr>\n",
              "    <tr>\n",
              "      <th>2017-01-01 03:00:00</th>\n",
              "      <td>0.2</td>\n",
              "      <td>0.0</td>\n",
              "      <td>99.0</td>\n",
              "      <td>103460.0</td>\n",
              "      <td>0.0</td>\n",
              "      <td>9999.0</td>\n",
              "      <td>274.0</td>\n",
              "      <td>0.0</td>\n",
              "      <td>0.0</td>\n",
              "      <td>0.0</td>\n",
              "      <td>0.0</td>\n",
              "      <td>0.0</td>\n",
              "      <td>0.0</td>\n",
              "      <td>999900.0</td>\n",
              "      <td>0.0</td>\n",
              "      <td>0.0</td>\n",
              "      <td>8.0</td>\n",
              "      <td>8.0</td>\n",
              "      <td>0.8</td>\n",
              "      <td>3000.0</td>\n",
              "      <td>0.0</td>\n",
              "      <td>999999099.0</td>\n",
              "      <td>999.0</td>\n",
              "      <td>0.999</td>\n",
              "      <td>0.0</td>\n",
              "      <td>88.0</td>\n",
              "      <td>0.0</td>\n",
              "      <td>0.0</td>\n",
              "      <td>0.0</td>\n",
              "    </tr>\n",
              "    <tr>\n",
              "      <th>2017-01-01 04:00:00</th>\n",
              "      <td>0.0</td>\n",
              "      <td>-0.2</td>\n",
              "      <td>98.0</td>\n",
              "      <td>103460.0</td>\n",
              "      <td>0.0</td>\n",
              "      <td>9999.0</td>\n",
              "      <td>259.0</td>\n",
              "      <td>0.0</td>\n",
              "      <td>0.0</td>\n",
              "      <td>0.0</td>\n",
              "      <td>0.0</td>\n",
              "      <td>0.0</td>\n",
              "      <td>0.0</td>\n",
              "      <td>999900.0</td>\n",
              "      <td>0.0</td>\n",
              "      <td>0.0</td>\n",
              "      <td>3.0</td>\n",
              "      <td>3.0</td>\n",
              "      <td>0.8</td>\n",
              "      <td>77770.0</td>\n",
              "      <td>0.0</td>\n",
              "      <td>999999099.0</td>\n",
              "      <td>999.0</td>\n",
              "      <td>0.999</td>\n",
              "      <td>0.0</td>\n",
              "      <td>88.0</td>\n",
              "      <td>0.0</td>\n",
              "      <td>0.0</td>\n",
              "      <td>0.0</td>\n",
              "    </tr>\n",
              "  </tbody>\n",
              "</table>\n",
              "</div>"
            ],
            "text/plain": [
              "                    Dry Bulb Temperature  ... Liquid Precipitation Quantity\n",
              "2017-01-01 00:00:00                  2.0  ...                           0.0\n",
              "2017-01-01 01:00:00                  1.1  ...                           0.0\n",
              "2017-01-01 02:00:00                  0.5  ...                           0.0\n",
              "2017-01-01 03:00:00                  0.2  ...                           0.0\n",
              "2017-01-01 04:00:00                  0.0  ...                           0.0\n",
              "\n",
              "[5 rows x 29 columns]"
            ]
          },
          "metadata": {
            "tags": []
          },
          "execution_count": 3
        }
      ]
    },
    {
      "cell_type": "code",
      "metadata": {
        "id": "S-mIDh8m2Y33"
      },
      "source": [
        "# the ladybug pandas dataframe is not really a pandas dataframe\r\n",
        "# had to extract the data line by line instead of as a series to list operation\r\n",
        "\r\n",
        "dbt_list = []\r\n",
        "rh_list = []\r\n",
        "\r\n",
        "for i in df['Dry Bulb Temperature']:\r\n",
        "  dbt_list.append(i)\r\n",
        "\r\n",
        "for i in df['Relative Humidity']:\r\n",
        "  rh_list.append(i/100)\r\n",
        "  "
      ],
      "execution_count": 4,
      "outputs": []
    },
    {
      "cell_type": "code",
      "metadata": {
        "id": "rTvMDeEJrdcL"
      },
      "source": [
        "SETs = createSET(dbt_list,rh_list)\r\n",
        "SETs = np.round(SETs,2)\r\n",
        "SETs"
      ],
      "execution_count": null,
      "outputs": []
    }
  ]
}