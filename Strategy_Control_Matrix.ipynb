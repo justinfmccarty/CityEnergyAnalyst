{
  "nbformat": 4,
  "nbformat_minor": 0,
  "metadata": {
    "colab": {
      "name": "Strategy Control Matrix.ipynb",
      "provenance": [],
      "authorship_tag": "ABX9TyO8sDRrRr86TvpnnTR0j7Yd",
      "include_colab_link": true
    },
    "kernelspec": {
      "name": "python3",
      "display_name": "Python 3"
    }
  },
  "cells": [
    {
      "cell_type": "markdown",
      "metadata": {
        "id": "view-in-github",
        "colab_type": "text"
      },
      "source": [
        "<a href=\"https://colab.research.google.com/github/justinfmccarty/CityEnergyAnalyst_bigmacc/blob/master/Strategy_Control_Matrix.ipynb\" target=\"_parent\"><img src=\"https://colab.research.google.com/assets/colab-badge.svg\" alt=\"Open In Colab\"/></a>"
      ]
    },
    {
      "cell_type": "code",
      "metadata": {
        "id": "RFnmH1WlwGrm"
      },
      "source": [
        "import numpy as np\r\n",
        "import pandas as pd"
      ],
      "execution_count": 98,
      "outputs": []
    },
    {
      "cell_type": "code",
      "metadata": {
        "colab": {
          "base_uri": "https://localhost:8080/"
        },
        "id": "7o4JSthbrBsN",
        "outputId": "a6e4ed4c-affc-4812-ad46-2c82583cebd8"
      },
      "source": [
        "import itertools\r\n",
        "\r\n",
        "def calc_lst(n):\r\n",
        "   #https://stackoverflow.com/questions/14931769/how-to-get-all-combination-of-n-binary-value\r\n",
        "  return [list(i) for i in itertools.product([0, 1], repeat=n)]\r\n"
      ],
      "execution_count": 64,
      "outputs": [
        {
          "output_type": "stream",
          "text": [
            "CPU times: user 640 µs, sys: 995 µs, total: 1.64 ms\n",
            "Wall time: 1.53 ms\n"
          ],
          "name": "stdout"
        }
      ]
    },
    {
      "cell_type": "code",
      "metadata": {
        "colab": {
          "base_uri": "https://localhost:8080/"
        },
        "id": "Om2bWOXpr_8Y",
        "outputId": "b0c40f49-08db-4676-e110-59ef60df89da"
      },
      "source": [
        "\r\n",
        "str_list = []\r\n",
        "for key in calc_lst(8):\r\n",
        "  result = ''.join(str(i) for i in key) \r\n",
        "  str_list.append(result)\r\n",
        "\r\n",
        "str_list"
      ],
      "execution_count": 71,
      "outputs": [
        {
          "output_type": "stream",
          "text": [
            "CPU times: user 1.19 ms, sys: 18 µs, total: 1.21 ms\n",
            "Wall time: 1.22 ms\n"
          ],
          "name": "stdout"
        }
      ]
    },
    {
      "cell_type": "code",
      "metadata": {
        "id": "iSD-iVezvbQn"
      },
      "source": [
        "def runrad_rule(key): # SETS FOR HEATING REDUCED 1C (20C TO 19C) AND SETS FOR COOLING RAISED 1C (24C TO 25C)\r\n",
        "    if keys[0]==1:\r\n",
        "        from shutil import copyfile\r\n",
        "        copyfile(locator.get_alt_use_type_properties(), locator.get_database_use_types_properties())\r\n",
        "        print(' - Replacing set temperatures for experiment {}.'.format(i))\r\n",
        "    else:\r\n",
        "        print(' - Experiment {} does not use altered set temperatures.'.format(i))\r\n",
        "    return print(' - Temperature setpoints and setbacks checked.')\r\n",
        "\r\n",
        "\r\n",
        "def SP_rule(key,SP_value): # SET INTEGER FOR HEATING AND COOLING SETPOINT\r\n",
        "    keys = [int(d) for d in key]\r\n",
        "    if keys[0]==1:\r\n",
        "        return SP_value\r\n",
        "    else:\r\n",
        "        return np.nan\r\n",
        "\r\n",
        "def GR_rule(key,GR_value):  # ALL BUILDINGS GET GREEN ROOFS\r\n",
        "    keys = [int(d) for d in key]\r\n",
        "    if keys[1]==1:\r\n",
        "        return GR_value\r\n",
        "    else:\r\n",
        "        return np.nan\r\n",
        "\r\n",
        "def DR_rule(key,DR_name): # EXISTING BUILDINGS HAVE DEEP WALL AND WINDOW RETROFIT (WWR REDUCED)\r\n",
        "    keys = [int(d) for d in key]\r\n",
        "    if keys[2] == 1:\r\n",
        "        return DR_name\r\n",
        "    else:\r\n",
        "        return np.nan\r\n",
        "\r\n",
        "\r\n",
        "def PH_rule(key,PH_value,PH_GR_value): # NEW BUILD REQ PASSIVE\r\n",
        "    keys = [int(d) for d in key]\r\n",
        "    if keys[3] == 1:\r\n",
        "      return PH_value\r\n",
        "    else:\r\n",
        "      return np.nan\r\n",
        "\r\n",
        "def PH_rule(key,PH_value): # NEW BUILD REQ PASSIVE\r\n",
        "    keys = [int(d) for d in key]\r\n",
        "    if keys[3] == 1:\r\n",
        "      return PH_value\r\n",
        "    else:\r\n",
        "      return np.nan\r\n",
        "\r\n",
        "def PH_GR_rule(key,PH_GR_value): # NEW BUILD REQ PASSIVE AND GREEN ROOF\r\n",
        "    keys = [int(d) for d in key]\r\n",
        "    if keys[3] == 1:\r\n",
        "      if keys[1] == 1:\r\n",
        "        return PH_GR_value\r\n",
        "      else:\r\n",
        "        return np.nan\r\n",
        "    else:\r\n",
        "      return np.nan\r\n",
        "\r\n",
        "def HP_rule(key,HP_value):  # NEW BUILD AND REFURBISHMENT/RETROFITS REQUIRE HEAT PUMP INSTALLATION (NO DISTRICT SERVICES)\r\n",
        "    keys = [int(d) for d in key]\r\n",
        "    if keys[4] == 1:\r\n",
        "      return HP_value\r\n",
        "    else:\r\n",
        "      return np.nan\r\n",
        "\r\n",
        "def MT_rule(key,MT_value):  # NEW BUILD REQUIRES MASS TIMBER STRUCTURAL SYSTEMS\r\n",
        "    keys = [int(d) for d in key]\r\n",
        "    if keys[5] == 1:\r\n",
        "      return MT_value\r\n",
        "    else:\r\n",
        "      return np.nan\r\n",
        "\r\n",
        "def SW_rule(key,SW_value):  # DISTRICT COOLING SYSTEM INSTALLED LINKED TO WRECK BEACH\r\n",
        "    keys = [int(d) for d in key]\r\n",
        "    if keys[6] == 1:\r\n",
        "      return SW_value\r\n",
        "    else:\r\n",
        "      return np.nan\r\n",
        "\r\n",
        "def PV_rule(key,PV_value):  # ALL BUILDINGS HAVE ROOFTOP PV INSTALLED\r\n",
        "    keys = [int(d) for d in key]\r\n",
        "    if keys[7] == 1:\r\n",
        "      return PV_value\r\n",
        "    else:\r\n",
        "      return np.nan\r\n",
        "\r\n",
        "def PV_GR_rule(key,PV_GR_value):  # ALL BUILDINGS HAVE ROOFTOP PV AND GREEN ROOF INSTALLED\r\n",
        "    keys = [int(d) for d in key]\r\n",
        "    if keys[7] == 1:\r\n",
        "      if keys[1] == 1:\r\n",
        "        return PV_GR_value\r\n",
        "      else:\r\n",
        "        return np.nan\r\n",
        "    else:\r\n",
        "      return np.nan\r\n",
        "\r\n",
        "def PV_GR_PH_rule(key,PV_GR_PH_value):  # ALL BUILDINGS HAVE ROOFTOP PV AND GREEN ROOF AND PASSIVE HOUSE INSTALLED\r\n",
        "    keys = [int(d) for d in key]\r\n",
        "    if keys[7] == 1:\r\n",
        "      if keys[1] == 1:\r\n",
        "        if keys[3] == 1:\r\n",
        "          return PV_GR_PH_value\r\n",
        "        else:\r\n",
        "          return np.nan\r\n",
        "      else:\r\n",
        "        return np.nan\r\n",
        "    else:\r\n",
        "        return np.nan\r\n"
      ],
      "execution_count": 102,
      "outputs": []
    },
    {
      "cell_type": "code",
      "metadata": {
        "colab": {
          "base_uri": "https://localhost:8080/",
          "height": 424
        },
        "id": "DiWMwLe0wFtj",
        "outputId": "3e5ec2c8-d0fe-4cc4-a3bd-3d7dada1003b"
      },
      "source": [
        "key_df = pd.DataFrame(data={'keys':str_list})\r\n",
        "\r\n",
        "key_df['setpoint_heat'] = key_df.apply(lambda x: SP_rule(x['keys'],-1),axis=1)\r\n",
        "key_df['setpoint_cool'] = key_df.apply(lambda x: SP_rule(x['keys'],1),axis=1)\r\n",
        "key_df['setpoint_heat'] = key_df.apply(lambda x: SP_rule(x['keys'],-1),axis=1)\r\n"
      ],
      "execution_count": 103,
      "outputs": [
        {
          "output_type": "execute_result",
          "data": {
            "text/html": [
              "<div>\n",
              "<style scoped>\n",
              "    .dataframe tbody tr th:only-of-type {\n",
              "        vertical-align: middle;\n",
              "    }\n",
              "\n",
              "    .dataframe tbody tr th {\n",
              "        vertical-align: top;\n",
              "    }\n",
              "\n",
              "    .dataframe thead th {\n",
              "        text-align: right;\n",
              "    }\n",
              "</style>\n",
              "<table border=\"1\" class=\"dataframe\">\n",
              "  <thead>\n",
              "    <tr style=\"text-align: right;\">\n",
              "      <th></th>\n",
              "      <th>keys</th>\n",
              "      <th>setpoint_heat</th>\n",
              "    </tr>\n",
              "  </thead>\n",
              "  <tbody>\n",
              "    <tr>\n",
              "      <th>0</th>\n",
              "      <td>00000000</td>\n",
              "      <td>NaN</td>\n",
              "    </tr>\n",
              "    <tr>\n",
              "      <th>1</th>\n",
              "      <td>00000001</td>\n",
              "      <td>NaN</td>\n",
              "    </tr>\n",
              "    <tr>\n",
              "      <th>2</th>\n",
              "      <td>00000010</td>\n",
              "      <td>NaN</td>\n",
              "    </tr>\n",
              "    <tr>\n",
              "      <th>3</th>\n",
              "      <td>00000011</td>\n",
              "      <td>NaN</td>\n",
              "    </tr>\n",
              "    <tr>\n",
              "      <th>4</th>\n",
              "      <td>00000100</td>\n",
              "      <td>NaN</td>\n",
              "    </tr>\n",
              "    <tr>\n",
              "      <th>...</th>\n",
              "      <td>...</td>\n",
              "      <td>...</td>\n",
              "    </tr>\n",
              "    <tr>\n",
              "      <th>251</th>\n",
              "      <td>11111011</td>\n",
              "      <td>-1.0</td>\n",
              "    </tr>\n",
              "    <tr>\n",
              "      <th>252</th>\n",
              "      <td>11111100</td>\n",
              "      <td>-1.0</td>\n",
              "    </tr>\n",
              "    <tr>\n",
              "      <th>253</th>\n",
              "      <td>11111101</td>\n",
              "      <td>-1.0</td>\n",
              "    </tr>\n",
              "    <tr>\n",
              "      <th>254</th>\n",
              "      <td>11111110</td>\n",
              "      <td>-1.0</td>\n",
              "    </tr>\n",
              "    <tr>\n",
              "      <th>255</th>\n",
              "      <td>11111111</td>\n",
              "      <td>-1.0</td>\n",
              "    </tr>\n",
              "  </tbody>\n",
              "</table>\n",
              "<p>256 rows × 2 columns</p>\n",
              "</div>"
            ],
            "text/plain": [
              "         keys  setpoint_heat\n",
              "0    00000000            NaN\n",
              "1    00000001            NaN\n",
              "2    00000010            NaN\n",
              "3    00000011            NaN\n",
              "4    00000100            NaN\n",
              "..        ...            ...\n",
              "251  11111011           -1.0\n",
              "252  11111100           -1.0\n",
              "253  11111101           -1.0\n",
              "254  11111110           -1.0\n",
              "255  11111111           -1.0\n",
              "\n",
              "[256 rows x 2 columns]"
            ]
          },
          "metadata": {
            "tags": []
          },
          "execution_count": 103
        }
      ]
    }
  ]
}